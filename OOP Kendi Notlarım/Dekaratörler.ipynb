{
 "cells": [
  {
   "cell_type": "markdown",
   "id": "2b915387-d72b-41ba-bd21-bde14c12d4f2",
   "metadata": {},
   "source": [
    "# classmethod\n",
    "Tıpkı self gibi, aslında cls kelimesi de Python açısından bir zorunluluk değildir.\n",
    "Yani cls yerine de istediğimiz kelimeyi kullanabilirdik. Bu metotlarda önemli olan, parametre\n",
    "listesinin ilk sırasını işgal eden kelimenin ne olduğudur.Dolayısıyla yukarıdaki örnekte Python\n",
    "açısından örnek_metodu() ile sınıf_metodu() arasında hiçbir fark bulunmaz. **Python her iki\n",
    "metodu da birer örnek metodu olarak değerlendirir.** Bu iki örnek metodu arasındaki fark,\n",
    "ilkinde sınıf örneklerini temsil edecek kelimenin self, ikincisinde ise cls olarak belirlenmiş\n",
    "olmasıdır. Python self veya cls kelimelerine özel bir önem atfetmez. Ama **Python topluluğu\n",
    "içinde, örnek metotları için self, sınıf metotları için ise cls kullanmak çok güçlü bir gelenektir.**\n"
   ]
  },
  {
   "cell_type": "code",
   "execution_count": 1,
   "id": "4488f050-8858-4586-ac3e-97dfe235cded",
   "metadata": {},
   "outputs": [],
   "source": [
    "class Sınıf():\n",
    "    \n",
    "    sınıf_niteliği = 0\n",
    "    \n",
    "    def __init__(self, param1, param2):\n",
    "        self.param1 = param1\n",
    "        self.param2 = param2\n",
    "        self.örnek_niteliği = 0\n",
    "    \n",
    "    def örnek_metodu(self):\n",
    "        self.örnek_niteliği += 1\n",
    "        return self.örnek_niteliği\n",
    "        \n",
    "    @classmethod\n",
    "    def sınıf_metodu(cls):\n",
    "        cls.sınıf_niteliği += 1\n",
    "        return cls.sınıf_niteliği"
   ]
  },
  {
   "cell_type": "markdown",
   "id": "36a1c71a-d7e0-4131-b311-76ffe791bb65",
   "metadata": {},
   "source": [
    "   Python’da bir sınıf metodunu örnek metodundan ayıran asıl öğe, yukarıdaki örnekte\n",
    "gördüğümüz **@classmethod** ifadesidir. Python’da isminin önünde @ işareti olan bu\n",
    "tür öğelere ‘bezeyici’ (decorator) adı verilir. Gördüğünüz gibi, @classmethod bezeyicisi,\n",
    "yukarıdaki örnekte bir fonksiyonu sınıf metoduna dönüştürme işlevi görüyor."
   ]
  },
  {
   "cell_type": "code",
   "execution_count": 2,
   "id": "54c9123c-f420-47c6-afc4-c70183a5ea82",
   "metadata": {},
   "outputs": [],
   "source": [
    "class Çalışan():\n",
    "    \n",
    "    personel = []\n",
    "    \n",
    "    def __init__(self, isim):\n",
    "        self.isim = isim\n",
    "        self.kabiliyetleri = []\n",
    "        self.personele_ekle()\n",
    "        \n",
    "    @classmethod\n",
    "    def personel_sayısını_görüntüle(cls):\n",
    "        print(len(cls.personel))\n",
    "    \n",
    "    def personele_ekle(self):\n",
    "        self.personel.append(self.isim)\n",
    "        print('{} adlı kişi personele eklendi'.format(self.isim))\n",
    "    \n",
    "    @classmethod\n",
    "    def personeli_görüntüle(cls):\n",
    "        print('Personel listesi:')\n",
    "        for kişi in cls.personel:\n",
    "            print(kişi)\n",
    "    \n",
    "    def kabiliyet_ekle(self, kabiliyet):\n",
    "        self.kabiliyetleri.append(kabiliyet)\n",
    "    \n",
    "    def kabiliyetleri_görüntüle(self):\n",
    "        print('{} adlı kişinin kabiliyetleri:'.format(self.isim))\n",
    "        for kabiliyet in self.kabiliyetleri:\n",
    "            print(kabiliyet)"
   ]
  },
  {
   "cell_type": "markdown",
   "id": "c89c8c44-7599-4868-b331-2e2e242e39d2",
   "metadata": {},
   "source": [
    "Bir sınıf metodu olarak tanımladığımız personel_sayısını_görüntüle() fonksiyonu artık <ins>ilgili\n",
    "sınıfın herhangi bir örneğine bağımlı olmadığı için, sınıfı örneklemek zorunda kalmadan,\n",
    "yalnızca sınıf adını kullanarak personel_sayısını_görüntüle() fonksiyonuna erişebiliyoruz</ins>."
   ]
  },
  {
   "cell_type": "code",
   "execution_count": 3,
   "id": "134ecac7-0cca-4e07-abc5-5adac5699b89",
   "metadata": {},
   "outputs": [
    {
     "ename": "ModuleNotFoundError",
     "evalue": "No module named 'çalışan'",
     "output_type": "error",
     "traceback": [
      "\u001b[1;31m---------------------------------------------------------------------------\u001b[0m",
      "\u001b[1;31mModuleNotFoundError\u001b[0m                       Traceback (most recent call last)",
      "Cell \u001b[1;32mIn[3], line 3\u001b[0m\n\u001b[0;32m      1\u001b[0m \u001b[38;5;66;03m# Burda çalışan, Çalışan sınıfının bulunduğu dosyanın adı\u001b[39;00m\n\u001b[1;32m----> 3\u001b[0m \u001b[38;5;28;01mfrom\u001b[39;00m \u001b[38;5;21;01mçalışan\u001b[39;00m \u001b[38;5;28;01mimport\u001b[39;00m Çalışan\n\u001b[0;32m      4\u001b[0m Çalışan\u001b[38;5;241m.\u001b[39mpersonel_sayısını_görüntüle()\n",
      "\u001b[1;31mModuleNotFoundError\u001b[0m: No module named 'çalışan'"
     ]
    }
   ],
   "source": [
    "# Burda çalışan, Çalışan sınıfının bulunduğu dosyanın adı\n",
    "\n",
    "from çalışan import Çalışan\n",
    "Çalışan.personel_sayısını_görüntüle()"
   ]
  },
  {
   "cell_type": "markdown",
   "id": "5cc71d1e-ecef-41a9-8481-bc5e6f315acf",
   "metadata": {},
   "source": [
    "# @staticmethod\n",
    "Eğer sınıf içinde tanımlayacağınız fonksiyon herhangi bir\n",
    "örnek ya da sınıf niteliği üzerinde herhangi bir işlem yapmayacaksa fonksiyonun bir üst satırına **@staticmethod** yazılır.\n",
    "\n",
    "**NOT:** Statik metotlar, <ins>ilk parametre olarak self veya cls benzeri kelimeler almaz</ins>. Çünkü bu tür\n",
    "sınıfların örnek veya sınıf nitelikleri ile herhangi bir işi yoktur.\n",
    "\n",
    "**Peki statik metotlar ne işe yarar ?**\n",
    "\n",
    "Bu metotlar classmethod çok benzer. Tıpkı sınıf metotlarında olduğu gibi, anlamsal olarak\n",
    "sınıfla ilgili olan, ancak sınıf metotlarının aksine <ins>bu sınıfın herhangi bir niteliğine erişmesine\n",
    "gerek olmayan</ins> fonksiyonları, sınıf dışına atmak yerine, birer statik metot olarak sınıf içine\n",
    "yerleştirebiliriz.\n",
    "\n",
    "\n"
   ]
  },
  {
   "cell_type": "code",
   "execution_count": 4,
   "id": "4a1549ed-8427-4493-b23c-c0833ac8bb63",
   "metadata": {},
   "outputs": [],
   "source": [
    "'''Matematik işlemleri yapmamızı sağlayan\n",
    "bir sınıf.'''\n",
    "class Mat():\n",
    "    \n",
    "    @staticmethod\n",
    "    def pi():\n",
    "        return 22/7\n",
    "        \n",
    "    @staticmethod\n",
    "    def karekök(sayı):\n",
    "        return sayı ** 0.5"
   ]
  },
  {
   "cell_type": "markdown",
   "id": "a7036472-3b9d-4b99-8384-1119769f8796",
   "metadata": {},
   "source": [
    "**NOT:** Statik metotları hem örnekler hem de sınıf adları üzerinden kullanabiliriz."
   ]
  },
  {
   "cell_type": "code",
   "execution_count": 5,
   "id": "23ef8a03-927c-42ab-8a84-e694b3847309",
   "metadata": {},
   "outputs": [
    {
     "name": "stdout",
     "output_type": "stream",
     "text": [
      "3.142857142857143\n",
      "5.0\n"
     ]
    }
   ],
   "source": [
    "\"\"\"Örnek Üzerinden\"\"\"\n",
    "m = Mat()\n",
    "print(m.pi())\n",
    "print(m.karekök(25))"
   ]
  },
  {
   "cell_type": "code",
   "execution_count": 6,
   "id": "52e71f6c-77b6-4783-ab8c-5c2ada2d23d1",
   "metadata": {},
   "outputs": [
    {
     "data": {
      "text/plain": [
       "3.142857142857143"
      ]
     },
     "execution_count": 6,
     "metadata": {},
     "output_type": "execute_result"
    }
   ],
   "source": [
    "\"\"\"Sınıf Üzerinden\"\"\"\n",
    "Mat.pi()"
   ]
  },
  {
   "cell_type": "code",
   "execution_count": 7,
   "id": "09089cdc-67f5-43c6-82d2-9eb61c5159fe",
   "metadata": {},
   "outputs": [
    {
     "data": {
      "text/plain": [
       "5.0"
      ]
     },
     "execution_count": 7,
     "metadata": {},
     "output_type": "execute_result"
    }
   ],
   "source": [
    "\"\"\"Sınıf Üzerinden\"\"\"\n",
    "Mat.karekök(25)"
   ]
  },
  {
   "cell_type": "markdown",
   "id": "cc433157-e93a-4ea8-bcd8-d366b1b1afe0",
   "metadata": {},
   "source": [
    "Elbette eğer isteseydik biz bu fonksiyonları şöyle de tanımlayabilirdik"
   ]
  },
  {
   "cell_type": "code",
   "execution_count": 8,
   "id": "c989ae9c-d387-4d88-8a9e-446f6781bfb9",
   "metadata": {},
   "outputs": [],
   "source": [
    "class Mat():\n",
    "\n",
    "    def pi(self):\n",
    "        return 22/7\n",
    "        \n",
    "    def karekök(self, sayı):\n",
    "        return sayı ** 0.5"
   ]
  },
  {
   "cell_type": "markdown",
   "id": "da95355a-10dc-4815-bd8c-f7e08a6dc33d",
   "metadata": {},
   "source": [
    "Burada bu iki fonksiyonu birer örnek metodu olarak tanımladık. Bu fonksiyonları bu şekilde\n",
    "tanımladığımızda, bunlara örnekler üzerinden erişebiliriz. Ancak bildiğiniz gibi, örnek metotlarına sınıf adları üzerinden erişemeyiz.\n",
    "\n",
    "**Not:** Aynı şekilde bunları sınıf metodu olarak da tanımlayabilirdik. Bu metotları böyle tanımladığımızda, bu metotlara hem örnekler üzerinden hem de sınıf adı\n",
    "üzerinden erişebiliriz."
   ]
  },
  {
   "cell_type": "code",
   "execution_count": 9,
   "id": "3955cc43-82ea-4db0-be32-156d2fddbbe5",
   "metadata": {},
   "outputs": [
    {
     "name": "stdout",
     "output_type": "stream",
     "text": [
      "3.142857142857143\n",
      "12.0\n"
     ]
    }
   ],
   "source": [
    "m = Mat()\n",
    "print(m.pi())\n",
    "print(m.karekök(144))"
   ]
  },
  {
   "cell_type": "code",
   "execution_count": 10,
   "id": "af03adb0-d469-4abe-ab1b-3ab8829ed9a4",
   "metadata": {
    "scrolled": true
   },
   "outputs": [
    {
     "ename": "TypeError",
     "evalue": "pi() missing 1 required positional argument: 'self'",
     "output_type": "error",
     "traceback": [
      "\u001b[1;31m---------------------------------------------------------------------------\u001b[0m",
      "\u001b[1;31mTypeError\u001b[0m                                 Traceback (most recent call last)",
      "Cell \u001b[1;32mIn[10], line 1\u001b[0m\n\u001b[1;32m----> 1\u001b[0m \u001b[38;5;28mprint\u001b[39m(\u001b[43mMat\u001b[49m\u001b[38;5;241;43m.\u001b[39;49m\u001b[43mpi\u001b[49m\u001b[43m(\u001b[49m\u001b[43m)\u001b[49m)\n\u001b[0;32m      2\u001b[0m \u001b[38;5;28mprint\u001b[39m(Mat\u001b[38;5;241m.\u001b[39mkarekök(\u001b[38;5;241m144\u001b[39m))\n",
      "\u001b[1;31mTypeError\u001b[0m: pi() missing 1 required positional argument: 'self'"
     ]
    }
   ],
   "source": [
    "print(Mat.pi())\n",
    "print(Mat.karekök(144))"
   ]
  },
  {
   "cell_type": "markdown",
   "id": "10a55a53-32ca-4f38-a569-da8a42003ce6",
   "metadata": {},
   "source": [
    "# @proprty\n",
    "\n",
    "Property kelimesi (attribute kelimesine benzer bir şekilde) İngilizcede ‘özellik, nitelik’ gibi\n",
    "anlamlara gelir. Kelime anlamına uygun olarak, @property bezeyicisinin yaptığı en temel iş,\n",
    "**bir metodu, nitelik gibi kullanılabilecek hale getirmektir.** Çok basit bir örnek verelim:"
   ]
  },
  {
   "cell_type": "code",
   "execution_count": 36,
   "id": "bd5c9e83-3245-44e3-9e5a-a66b9975fab3",
   "metadata": {},
   "outputs": [],
   "source": [
    "class Program():\n",
    "    def __init__(self):\n",
    "        pass\n",
    "    def versiyon(self):\n",
    "        return '0.1'"
   ]
  },
  {
   "cell_type": "code",
   "execution_count": 37,
   "id": "5a399284-5e4d-46ba-a6ae-07592b1b04d1",
   "metadata": {},
   "outputs": [
    {
     "data": {
      "text/plain": [
       "'0.1'"
      ]
     },
     "execution_count": 37,
     "metadata": {},
     "output_type": "execute_result"
    }
   ],
   "source": [
    "program = Program()\n",
    "program.versiyon()    # Burda versiyonu metot olarak çağırdık"
   ]
  },
  {
   "cell_type": "code",
   "execution_count": 38,
   "id": "49bac7ab-fd08-471d-8f97-f0da92742eaa",
   "metadata": {},
   "outputs": [],
   "source": [
    "class Program():\n",
    "    def __init__(self):\n",
    "        pass\n",
    "        \n",
    "    @property\n",
    "    def versiyon(self):\n",
    "        return '0.1'"
   ]
  },
  {
   "cell_type": "code",
   "execution_count": 39,
   "id": "5fbb918d-7c89-4547-b2d0-71c0c3a9e26a",
   "metadata": {},
   "outputs": [
    {
     "data": {
      "text/plain": [
       "'0.1'"
      ]
     },
     "execution_count": 39,
     "metadata": {},
     "output_type": "execute_result"
    }
   ],
   "source": [
    "program = Program()\n",
    "program.versiyon      # Burda versiyonu nitelik olarak çağırdık"
   ]
  },
  {
   "cell_type": "markdown",
   "id": "be7f2339-96db-4b8a-abe5-dac58a0e802d",
   "metadata": {},
   "source": [
    "\n",
    " @property ile erişim kısıtlamasına bakmak için bu pdf de 855. sayfaya bakın<a> https://python-istihza.yazbel.com/YazbelPythonProgramlamaDiliBelgeleri.pdf </a>\n",
    "\n",
    "\n"
   ]
  },
  {
   "cell_type": "markdown",
   "id": "81826456-e3eb-4e5e-9ac7-7915ebd188a3",
   "metadata": {},
   "source": [
    "# Peki acaba neden bir metodu niteliğe dönüştürmek istiyor olabiliriz?\n",
    "Şöyle bir program yazdığınızı düşünün:\n",
    "\n"
   ]
  },
  {
   "cell_type": "code",
   "execution_count": 42,
   "id": "0a8990b1-c112-4511-aa54-23647c48cf65",
   "metadata": {},
   "outputs": [],
   "source": [
    "class Program():\n",
    "    def __init__(self):\n",
    "        self.data = 0"
   ]
  },
  {
   "cell_type": "markdown",
   "id": "03b11f9a-83f8-48bc-b67f-556c25b000ca",
   "metadata": {},
   "source": [
    "Yazdığınız bu programı kullananlar, sınıf içindeki data niteliğine şu şekilde erişiyor:"
   ]
  },
  {
   "cell_type": "code",
   "execution_count": 43,
   "id": "202eb2d8-69d5-4b24-bca1-6caa09c47ec1",
   "metadata": {},
   "outputs": [
    {
     "data": {
      "text/plain": [
       "0"
      ]
     },
     "execution_count": 43,
     "metadata": {},
     "output_type": "execute_result"
    }
   ],
   "source": [
    "p = Program()\n",
    "p.data"
   ]
  },
  {
   "cell_type": "markdown",
   "id": "e3af5706-3166-445b-9718-b48d4993129a",
   "metadata": {},
   "source": [
    "Hatta duruma göre bu niteliği şu şekilde değişikliğe de uğratıyor:\n"
   ]
  },
  {
   "cell_type": "code",
   "execution_count": 45,
   "id": "f02bf501-636d-426e-81b4-394d0affc8a2",
   "metadata": {},
   "outputs": [
    {
     "data": {
      "text/plain": [
       "5"
      ]
     },
     "execution_count": 45,
     "metadata": {},
     "output_type": "execute_result"
    }
   ],
   "source": [
    "p.data = 5\n",
    "p.data"
   ]
  },
  {
   "cell_type": "markdown",
   "id": "c452b3ad-b3ae-403e-b9f2-5415429d1f1c",
   "metadata": {},
   "source": [
    "Günün birinde, ‘data’ kelimesi yerine ‘veri’ kelimesinin daha uygun olduğunu düşünerek,\n",
    "‘data’ kelimesini ‘veri’ olarak değiştirmek istediğinizi varsayalım.Yukarıdaki kodda self.data yerine self.veri yazarak değiştirirseniz programınızı eskiden beri kullananların, sizin yazdığınız bu programı\n",
    "temel alarak oluşturdukları programları bozmuş oldunuz... Çünkü eğer bu programdan\n",
    "faydalanan birisi, yazdığı kodda eski self.data değişkenini kullanmışsa, yukarıdaki isim\n",
    "değişikliği yüzünden programı kullanılamaz hale gelecektir. İşte bunu önlemek için @property\n",
    "bezeyicisini kullanabilirsiniz.\n",
    "\n"
   ]
  },
  {
   "cell_type": "code",
   "execution_count": 46,
   "id": "54b6368a-ad7f-4a58-a98a-a16ecb7253ba",
   "metadata": {},
   "outputs": [],
   "source": [
    "class Program():\n",
    "    def __init__(self):\n",
    "        self.veri = 0\n",
    "    \n",
    "    @property\n",
    "    def data(self):\n",
    "        return self.veri\n"
   ]
  },
  {
   "cell_type": "markdown",
   "id": "3a10a878-ba51-4908-8374-224a8404df96",
   "metadata": {},
   "source": [
    "Bu şekilde, self.data niteliğine yapılan bütün çağrılar data() adlı metot vasıtasıyla self.veri\n",
    "niteliğine yönlendirilecek. Böylece başkalarının bu programı kullanarak yazdığı eski kodları\n",
    "bozmadan, programımızda istediğimiz değişikliği yapmış olduk. Yani programımızda geriye\n",
    "dönük uyumluluğu (backwards compatibility) sağlamış olduk.\n",
    "\n",
    "Yukarıdaki kodlarda @property bezeyicisini kullanarak data() metodunu bir niteliğe\n",
    "dönüştürdüğümüz için artık şöyle bir kullanım mümkün:\n"
   ]
  },
  {
   "cell_type": "code",
   "execution_count": 48,
   "id": "794f8eca-8906-439e-ad0c-d54cf9c4b276",
   "metadata": {},
   "outputs": [
    {
     "name": "stdout",
     "output_type": "stream",
     "text": [
      "0\n",
      "0\n"
     ]
    }
   ],
   "source": [
    "p = Program()\n",
    "\n",
    "print(p.data)\n",
    "print(p.veri)"
   ]
  },
  {
   "cell_type": "markdown",
   "id": "8fd57d75-fd02-4786-9bef-7c82535877ed",
   "metadata": {},
   "source": [
    "Bu yapıda, self.veri üzerindeki değişiklikler self.data niteliğine de yansıyacaktır:"
   ]
  },
  {
   "cell_type": "code",
   "execution_count": 49,
   "id": "132858f0-b71d-4e40-943e-dd79acfe5449",
   "metadata": {},
   "outputs": [
    {
     "data": {
      "text/plain": [
       "5"
      ]
     },
     "execution_count": 49,
     "metadata": {},
     "output_type": "execute_result"
    }
   ],
   "source": [
    "p.veri = 5\n",
    "p.data"
   ]
  },
  {
   "cell_type": "markdown",
   "id": "ebc4e4c7-a5f8-4a63-b5c5-6604d222473d",
   "metadata": {},
   "source": [
    "## Erişim Engelleyici\n",
    "\n",
    "self.sayı niteliğine erişimi kısıtlayıp\n",
    "bu niteliği üzerinde değişiklik yapılamaz hale getirmek istersek @property bezeyicisinden\n",
    "yararlanabiliriz:\n"
   ]
  },
  {
   "cell_type": "code",
   "execution_count": 11,
   "id": "f15e8964-411d-4977-b492-fa1f44d3e5f8",
   "metadata": {},
   "outputs": [],
   "source": [
    "class Program():\n",
    "    def __init__(self):\n",
    "        self._sayı = 0\n",
    "    \n",
    "    @property\n",
    "    def sayı(self):\n",
    "        return self._sayı"
   ]
  },
  {
   "cell_type": "markdown",
   "id": "82f6e30e-dc7a-4e25-8124-a98607743958",
   "metadata": {},
   "source": [
    "Gördüğünüz gibi, öncelikle self.sayı adlı niteliği, başına bir alt çizgi getirerek normal erişime\n",
    "kapatmak istediğimizi belirttik. Bu kodları görenler, sayı niteliğinin **yarı-gizli** bir üye olduğunu\n",
    "anlayıp ona göre davranacak. <ins>Ayrıca biraz sonra tanımlayacağımız sayı() fonksiyonuyla\n",
    "bu değişkenin adının birbirine karışmaması için de bir önlem almış olacağız</ins>. <ins>Python’da bir\n",
    "değişkenin adını değiştirmeden o değişkene erişimi kontrol altına almak istediğimizde tek alt\n",
    "çizgi kullanmak tercih edilen bir yöntemdir.</ins>"
   ]
  },
  {
   "cell_type": "markdown",
   "id": "5fb0f912-16f3-424e-adf9-a2fda4ec3c51",
   "metadata": {},
   "source": [
    "Bu sayı() fonksiyonunu @property ile bezediğimiz için, fonksiyon bir niteliğe dönüştü ve sayı\n",
    "değişkenini **salt okunur** hale getirdi. Eğer amacınız değişkeni salt okunur hale getirmek değilse\n",
    "@property ile bezediğimiz fonksiyon için bir **setter** parametresi tanımlayabilirsiniz. Nasıl mı?\n",
    "Dikkatlice inceleyin:"
   ]
  },
  {
   "cell_type": "code",
   "execution_count": 17,
   "id": "d2ca5f78-d4f5-4a00-aa36-74630eeea232",
   "metadata": {},
   "outputs": [],
   "source": [
    "class Program():\n",
    "    def __init__(self):\n",
    "        self._sayı = 1\n",
    "    \n",
    "    @property\n",
    "    def sayı(self):\n",
    "        return self._sayı\n",
    "    \n",
    "    @sayı.setter\n",
    "    def sayı(self, yeni_değer):\n",
    "        self._sayı += yeni_değer\n",
    "        return self._sayı"
   ]
  },
  {
   "cell_type": "markdown",
   "id": "5a503b4e-f85e-499b-ba58-0d3eba6d5b09",
   "metadata": {},
   "source": [
    "@property ile bezeyerek bir nitelik haline getirdiğiniz fonksiyonu yazılabilir hale getirmek ve\n",
    "bu yazma işleminin nasıl olacağını belirlemek için özel bir .setter bezeyicisi ile bezenmiş yeni\n",
    "bir fonksiyon tanımlayabilirsiniz.\n",
    "\n",
    "Yukarıdaki kodları çalıştırdığımızda, _sayı değişkenine sayı adı ile normal bir şekilde erişip\n",
    "istediğimiz değişikliği yapabiliyoruz:\n"
   ]
  },
  {
   "cell_type": "code",
   "execution_count": 18,
   "id": "5e524e1e-d5ec-433a-a70e-f2b77f046f17",
   "metadata": {},
   "outputs": [
    {
     "name": "stdout",
     "output_type": "stream",
     "text": [
      "1\n",
      "6\n"
     ]
    }
   ],
   "source": [
    "p = Program()\n",
    "print(p.sayı)\n",
    "p.sayı = 5\n",
    "print(p.sayı)"
   ]
  },
  {
   "cell_type": "markdown",
   "id": "c7cf32f7-bcb1-41dd-a4f7-dfb1ec4543a5",
   "metadata": {},
   "source": [
    "setter bezeyicisini, bir niteliği yazılabilir hale getirmenin yanı sıra, **doğrulama işlemleri** için de\n",
    "kullanabilirsiniz.\n",
    "\n",
    "\n",
    "Basit bir örnek verelim:"
   ]
  },
  {
   "cell_type": "code",
   "execution_count": 64,
   "id": "042f95e1-96ca-474b-907c-39dcf7c78ce9",
   "metadata": {},
   "outputs": [],
   "source": [
    "class Program():\n",
    "    def __init__(self):\n",
    "        self._sayı = 0\n",
    "    \n",
    "    @property\n",
    "    def sayı(self):\n",
    "        return self._sayı\n",
    "    \n",
    "    @sayı.setter\n",
    "    def sayı(self, yeni_değer):\n",
    "        if yeni_değer % 2 == 0:\n",
    "            self._sayı = yeni_değer\n",
    "        else:\n",
    "            print('çift değil!')\n",
    "            \n",
    "        return self.sayı"
   ]
  },
  {
   "cell_type": "markdown",
   "id": "9fb31910-97b9-4c30-bd82-3fbfcf8a4a1d",
   "metadata": {},
   "source": [
    "Burada, self.sayı niteliğinin değerini çift sayılarla sınırlandırdık. Veri doğrulama/kısıtlama\n",
    "işlemini .setter bezeyicisi içinden gerçekleştirdiğimize dikkatinizi çekmek isterim. Buna göre,\n",
    "eğer self.sayı değişkenine girilen değer bir çift sayı ise bu değişikliği kabul ediyoruz. Aksi halde\n",
    "‘çift değil!’ uyarısı gösteriyoruz:\n"
   ]
  },
  {
   "cell_type": "code",
   "execution_count": 65,
   "id": "e0482dca-5513-490e-b199-d05406eb2560",
   "metadata": {},
   "outputs": [
    {
     "name": "stdout",
     "output_type": "stream",
     "text": [
      "2\n",
      "çift değil!\n",
      "2\n"
     ]
    }
   ],
   "source": [
    "p = Program()\n",
    "p.sayı = 2\n",
    "print(p.sayı)\n",
    "\n",
    "p.sayı = 5\n",
    "print(p.sayı)"
   ]
  },
  {
   "cell_type": "markdown",
   "id": "21d83387-5d9c-4693-9c54-b4f66594b715",
   "metadata": {},
   "source": [
    "setter dışında **.deleter** adlı özel bir @property bezeyicisi daha bulunur. <ins>Bunu da bir\n",
    "değeri silmek için kullanıyoruz</ins>:\n"
   ]
  },
  {
   "cell_type": "code",
   "execution_count": 19,
   "id": "1dba1232-73b3-4b73-94d1-05f1520ce3a4",
   "metadata": {},
   "outputs": [],
   "source": [
    "class Program():\n",
    "    def __init__(self):\n",
    "        self._sayı = 0\n",
    "    \n",
    "    @property\n",
    "    def sayı(self):\n",
    "        return self._sayı\n",
    "    \n",
    "    @sayı.setter\n",
    "    def sayı(self, yeni_değer):\n",
    "        if yeni_değer % 2 == 0:\n",
    "            self._sayı = yeni_değer\n",
    "        else:\n",
    "            print('çift değil!')\n",
    "            \n",
    "        return self.sayı\n",
    "\n",
    "    @sayı.deleter\n",
    "    def sayı(self):\n",
    "        del self._sayı"
   ]
  },
  {
   "cell_type": "markdown",
   "id": "8cf8b974-d16c-4066-a51a-c677b681f677",
   "metadata": {},
   "source": [
    "Gördüğünüz gibi, @property bezeyicisini kullanırken üç ayrı metot tanımlıyoruz:\n",
    "\n",
    "\n",
    "• İlgili niteliğe nasıl ulaşacağımızı gösteren bir metot: Bu metodu **@property** ile beziyoruz.\n",
    "\n",
    "\n",
    "• İlgili niteliği nasıl ayarlayacağımızı gösteren bir metot: Bu metodu **@metot_adı.setter**\n",
    "şeklinde beziyoruz.\n",
    "\n",
    "\n",
    "• İlgili niteliği nasıl sileceğimizi gösteren bir metot: Bu metodu **@metot_adı.deleter**\n",
    "şeklinde beziyoruz.\n"
   ]
  },
  {
   "cell_type": "code",
   "execution_count": null,
   "id": "8e42db0d-0da8-4e69-8e4f-8051c9de6337",
   "metadata": {},
   "outputs": [],
   "source": []
  }
 ],
 "metadata": {
  "kernelspec": {
   "display_name": "Python 3 (ipykernel)",
   "language": "python",
   "name": "python3"
  },
  "language_info": {
   "codemirror_mode": {
    "name": "ipython",
    "version": 3
   },
   "file_extension": ".py",
   "mimetype": "text/x-python",
   "name": "python",
   "nbconvert_exporter": "python",
   "pygments_lexer": "ipython3",
   "version": "3.9.13"
  }
 },
 "nbformat": 4,
 "nbformat_minor": 5
}
