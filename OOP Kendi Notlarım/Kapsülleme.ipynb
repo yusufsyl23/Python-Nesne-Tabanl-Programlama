{
 "cells": [
  {
   "cell_type": "markdown",
   "id": "9f0097c1-0392-4744-b5e8-f09c3cc81e57",
   "metadata": {},
   "source": [
    "# Kapsülleme\n",
    "\n",
    "Kampsülleme, metod yada değişkenleri erişime kısıtllamak anlamına gelir. \n",
    "Biz, bu metodu veya değişkenleri doğrudan modifiye edemememiz yani erişim kısıtlaması yapmamız anlamına gelir. Bu methoda sınıf dışından erişilemez ama sınıf içinde erişilebilir.\n"
   ]
  },
  {
   "cell_type": "code",
   "execution_count": 1,
   "id": "41a5823f-0ebb-43c3-b329-7f02f33fa4f1",
   "metadata": {},
   "outputs": [
    {
     "name": "stdout",
     "output_type": "stream",
     "text": [
      "30000\n",
      "0\n"
     ]
    }
   ],
   "source": [
    "class BankAccount():\n",
    "\n",
    "    def __init__(self, name, money, addres):\n",
    "        self.name = name\n",
    "        self.money = money\n",
    "        self.addres = addres\n",
    "\n",
    "p1 = BankAccount(\"Yusuf\", 10000, \"Malatya\")\n",
    "p2 = BankAccount(\"Hayri\" , 20000 , \"Malatya\")\n",
    "\n",
    "p2.money = p1.money + p2.money\n",
    "p1.money = 0\n",
    "\n",
    "print(p2.money)\n",
    "print(p1.money)"
   ]
  },
  {
   "cell_type": "code",
   "execution_count": 2,
   "id": "23924f0d-9499-44fc-88ba-d2943a6e8482",
   "metadata": {},
   "outputs": [
    {
     "ename": "AttributeError",
     "evalue": "'BankAccount' object has no attribute '__money'",
     "output_type": "error",
     "traceback": [
      "\u001b[1;31m---------------------------------------------------------------------------\u001b[0m",
      "\u001b[1;31mAttributeError\u001b[0m                            Traceback (most recent call last)",
      "Cell \u001b[1;32mIn[2], line 11\u001b[0m\n\u001b[0;32m      8\u001b[0m p1 \u001b[38;5;241m=\u001b[39m BankAccount(\u001b[38;5;124m\"\u001b[39m\u001b[38;5;124mYusuf\u001b[39m\u001b[38;5;124m\"\u001b[39m, \u001b[38;5;241m10000\u001b[39m, \u001b[38;5;124m\"\u001b[39m\u001b[38;5;124mMalatya\u001b[39m\u001b[38;5;124m\"\u001b[39m)\n\u001b[0;32m      9\u001b[0m p2 \u001b[38;5;241m=\u001b[39m BankAccount(\u001b[38;5;124m\"\u001b[39m\u001b[38;5;124mHayri\u001b[39m\u001b[38;5;124m\"\u001b[39m , \u001b[38;5;241m20000\u001b[39m , \u001b[38;5;124m\"\u001b[39m\u001b[38;5;124mMalatya\u001b[39m\u001b[38;5;124m\"\u001b[39m)\n\u001b[1;32m---> 11\u001b[0m \u001b[38;5;28mprint\u001b[39m(\u001b[43mp1\u001b[49m\u001b[38;5;241;43m.\u001b[39;49m\u001b[43m__money\u001b[49m)\n\u001b[0;32m     12\u001b[0m \u001b[38;5;66;03m# Böyle bir nesne yok diy hata veriri ama böyle bir nesne var biz buna erişemeyiz. Üzerinde işlem yapamayız\u001b[39;00m\n",
      "\u001b[1;31mAttributeError\u001b[0m: 'BankAccount' object has no attribute '__money'"
     ]
    }
   ],
   "source": [
    "class BankAccount():\n",
    "\n",
    "    def __init__(self, name, money, addres):\n",
    "        self.name = name        # Global\n",
    "        self.__money = money      # Private\n",
    "        self.addres = addres\n",
    "\n",
    "p1 = BankAccount(\"Yusuf\", 10000, \"Malatya\")\n",
    "p2 = BankAccount(\"Hayri\" , 20000 , \"Malatya\")\n",
    "\n",
    "print(p1.__money)\n",
    "# Böyle bir nesne yok diy hata veriri ama böyle bir nesne var biz buna erişemeyiz. Üzerinde işlem yapamayız"
   ]
  },
  {
   "cell_type": "code",
   "execution_count": 16,
   "id": "0afbcca3-09b5-4a81-9449-75285d7fefac",
   "metadata": {},
   "outputs": [
    {
     "name": "stdout",
     "output_type": "stream",
     "text": [
      "get Method: 10000\n",
      "Set Method: 5000\n",
      "Zam Method: 10000\n"
     ]
    }
   ],
   "source": [
    "class BankAccount():\n",
    "\n",
    "    def __init__(self, name, money, addres):\n",
    "        self.name = name        # Global\n",
    "        self.__money = money      # Private\n",
    "        self.addres = addres\n",
    "\n",
    "    # set and get  Global\n",
    "    # Get ve set metodları dünyaca kabul edilmiştir. İism olarak get ve set kullanmak zorunda değiliz.\n",
    "\n",
    "    # Get erişim sağlama\n",
    "    def getMoney(self):\n",
    "        return self.__money\n",
    "\n",
    "    # set ile para yatırma çekme vs. yapmak için kullanırız. Set demek attribute u modifiye etmektir.\n",
    "    def setMoney(self, amount):\n",
    "        self.__money = amount\n",
    "\n",
    "    def zam (self, miktar):\n",
    "        self.__money += miktar\n",
    "        \n",
    "        \n",
    "\n",
    "p1 = BankAccount(\"Yusuf\", 10000, \"Malatya\")\n",
    "p2 = BankAccount(\"Hayri\" , 20000 , \"Malatya\")\n",
    "\n",
    "print(\"get Method:\", p1.getMoney())\n",
    "\n",
    "p1.setMoney(5000)\n",
    "print(\"Set Method:\", p1.getMoney())\n",
    "\n",
    "p1.zam(5000)\n",
    "print(\"Zam Method:\", p1.getMoney())\n"
   ]
  },
  {
   "cell_type": "code",
   "execution_count": 18,
   "id": "d948dabe-3ace-454e-93a1-904d696bb986",
   "metadata": {},
   "outputs": [
    {
     "name": "stdout",
     "output_type": "stream",
     "text": [
      "get Method: 10000\n",
      "Set Method: 5000\n"
     ]
    },
    {
     "ename": "AttributeError",
     "evalue": "'BankAccount' object has no attribute 'zam'",
     "output_type": "error",
     "traceback": [
      "\u001b[1;31m---------------------------------------------------------------------------\u001b[0m",
      "\u001b[1;31mAttributeError\u001b[0m                            Traceback (most recent call last)",
      "Cell \u001b[1;32mIn[18], line 32\u001b[0m\n\u001b[0;32m     29\u001b[0m p1\u001b[38;5;241m.\u001b[39msetMoney(\u001b[38;5;241m5000\u001b[39m)\n\u001b[0;32m     30\u001b[0m \u001b[38;5;28mprint\u001b[39m(\u001b[38;5;124m\"\u001b[39m\u001b[38;5;124mSet Method:\u001b[39m\u001b[38;5;124m\"\u001b[39m, p1\u001b[38;5;241m.\u001b[39mgetMoney())\n\u001b[1;32m---> 32\u001b[0m \u001b[43mp1\u001b[49m\u001b[38;5;241;43m.\u001b[39;49m\u001b[43mzam\u001b[49m(\u001b[38;5;241m5000\u001b[39m)\n\u001b[0;32m     33\u001b[0m \u001b[38;5;28mprint\u001b[39m(\u001b[38;5;124m\"\u001b[39m\u001b[38;5;124mZam Method:\u001b[39m\u001b[38;5;124m\"\u001b[39m, p1\u001b[38;5;241m.\u001b[39mgetMoney())\n",
      "\u001b[1;31mAttributeError\u001b[0m: 'BankAccount' object has no attribute 'zam'"
     ]
    }
   ],
   "source": [
    "class BankAccount():\n",
    "\n",
    "    def __init__(self, name, money, addres):\n",
    "        self.name = name        # Global\n",
    "        self.__money = money      # Private\n",
    "        self.addres = addres\n",
    "\n",
    "    # set and get  Global\n",
    "    # Get ve set metodları dünyaca kabul edilmiştir. İism olarak get ve set kullanmak zorunda değiliz.\n",
    "\n",
    "    # Get erişim sağlama\n",
    "    def getMoney(self):\n",
    "        return self.__money\n",
    "\n",
    "    # set ile para yatırma çekme vs. yapmak için kullanırız. Set demek attribute u modifiye etmektir.\n",
    "    def setMoney(self, amount):\n",
    "        self.__money = amount\n",
    "\n",
    "    def __zam (self, miktar):      # Bu fonksiyonu private yaptık\n",
    "        self.__money += miktar\n",
    "        \n",
    "        \n",
    "\n",
    "p1 = BankAccount(\"Yusuf\", 10000, \"Malatya\")\n",
    "p2 = BankAccount(\"Hayri\" , 20000 , \"Malatya\")\n",
    "\n",
    "print(\"get Method:\", p1.getMoney())\n",
    "\n",
    "p1.setMoney(5000)\n",
    "print(\"Set Method:\", p1.getMoney())\n",
    "\n",
    "p1.zam(5000)\n",
    "print(\"Zam Method:\", p1.getMoney())"
   ]
  },
  {
   "cell_type": "code",
   "execution_count": 3,
   "id": "1609fa3b-cd4f-41bd-8e2e-00922418bfed",
   "metadata": {},
   "outputs": [],
   "source": [
    "class Banka_Hesabı():\n",
    "    def __init__(self,para):\n",
    "        self.para = para\n",
    "\n",
    "    def para_cek(self,tutar):\n",
    "        self.para -= tutar\n",
    "\n",
    "    def para_yatir(self,tutar):\n",
    "        self.para += tutar\n",
    "\n",
    "    def kalan_para(self):\n",
    "        print(\"Heasptaki Paranız:\",self.para)\n",
    "\n",
    "    def havale(self,kisi,tuta+r):\n",
    "        self.para -= tutar\n",
    "        kisi.para += tutar\n",
    "        "
   ]
  },
  {
   "cell_type": "code",
   "execution_count": 8,
   "id": "7f13329a-704a-45e3-bc0c-4009eb366b00",
   "metadata": {},
   "outputs": [
    {
     "name": "stdout",
     "output_type": "stream",
     "text": [
      "Heasptaki Paranız: 1000\n",
      "Heasptaki Paranız: 900\n",
      "Heasptaki Paranız: 1900\n",
      "Heasptaki Paranız: 4000\n",
      "Heasptaki Paranız: 2900\n"
     ]
    }
   ],
   "source": [
    "ali = Banka_Hesabı(1000)\n",
    "veli = Banka_Hesabı(5000)\n",
    "ali.kalan_para()\n",
    "ali.para_cek(100)\n",
    "ali.kalan_para()\n",
    "ali.para_yatir(1000)\n",
    "ali.kalan_para()\n",
    "veli.havale(ali,1000)\n",
    "veli.kalan_para()\n",
    "ali.kalan_para()"
   ]
  },
  {
   "cell_type": "code",
   "execution_count": null,
   "id": "f31cd66f-c99e-4646-9afc-12c76f931a1d",
   "metadata": {},
   "outputs": [],
   "source": []
  },
  {
   "cell_type": "code",
   "execution_count": null,
   "id": "0f63a54e-b416-44a0-954c-92fab3dc634f",
   "metadata": {},
   "outputs": [],
   "source": []
  }
 ],
 "metadata": {
  "kernelspec": {
   "display_name": "Python 3 (ipykernel)",
   "language": "python",
   "name": "python3"
  },
  "language_info": {
   "codemirror_mode": {
    "name": "ipython",
    "version": 3
   },
   "file_extension": ".py",
   "mimetype": "text/x-python",
   "name": "python",
   "nbconvert_exporter": "python",
   "pygments_lexer": "ipython3",
   "version": "3.9.13"
  }
 },
 "nbformat": 4,
 "nbformat_minor": 5
}
